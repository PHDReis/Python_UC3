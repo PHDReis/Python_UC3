{
 "cells": [
  {
   "cell_type": "markdown",
   "id": "7b6db2c9",
   "metadata": {
    "id": "7b6db2c9"
   },
   "source": [
    "## Exercício 1: Verifique se um número é positivo, negativo ou zero."
   ]
  },
  {
   "cell_type": "code",
   "execution_count": null,
   "id": "EfJY2b7JhEMg",
   "metadata": {
    "id": "EfJY2b7JhEMg"
   },
   "outputs": [
    {
     "name": "stdout",
     "output_type": "stream",
     "text": [
      "O número é zero\n"
     ]
    }
   ],
   "source": [
    "\n",
    "def verifica_num(numero):\n",
    "\n",
    "    if numero > 0:\n",
    "        print(\"O numero é positivo\")\n",
    "\n",
    "    elif numero < 0:\n",
    "        print(\"O número é negativo\")\n",
    "\n",
    "    else:\n",
    "        print(\"O número é zero\")\n",
    "\n",
    "num = float(input(\"Digite um numero: \"))\n",
    "verifica_num(num)"
   ]
  },
  {
   "cell_type": "markdown",
   "id": "70afdbb7",
   "metadata": {
    "id": "70afdbb7"
   },
   "source": [
    "## Exercício 2: Peça dois números e exiba o maior."
   ]
  },
  {
   "cell_type": "code",
   "execution_count": null,
   "id": "h1VzNDSmxvFN",
   "metadata": {
    "id": "h1VzNDSmxvFN"
   },
   "outputs": [
    {
     "name": "stdout",
     "output_type": "stream",
     "text": [
      "O maior numero é o 5.0 \n"
     ]
    }
   ],
   "source": [
    "def maior_de_dois(numero1, numero2):\n",
    "\n",
    "    if numero1>numero2:\n",
    "        print(f\"O maior numero é o {numero1} \")\n",
    "\n",
    "    elif numero1 == numero2:\n",
    "        print(f\"Os numeros {numero1} e {numero2} são iguais. \")\n",
    "        \n",
    "    else:\n",
    "        print(f\"O maior numero é o {numero2} \")\n",
    "\n",
    "num1 = float(input(\"Digite o 1º numero \"))\n",
    "num2 = float(input(\"Digite o 2º numero \"))\n",
    "\n",
    "maior_de_dois(num1, num2)"
   ]
  },
  {
   "cell_type": "markdown",
   "id": "36fc3988",
   "metadata": {
    "id": "36fc3988"
   },
   "source": [
    "## Exercício 3: Verifique se um número é par ou ímpar."
   ]
  },
  {
   "cell_type": "code",
   "execution_count": null,
   "id": "iFXWl90k06i0",
   "metadata": {
    "id": "iFXWl90k06i0"
   },
   "outputs": [
    {
     "name": "stdout",
     "output_type": "stream",
     "text": [
      "o numero 4.0 é par!\n"
     ]
    }
   ],
   "source": [
    "def par_impar(numero):\n",
    "\n",
    "    if numero % 2 == 0:\n",
    "        print(f\"o numero {numero} é par!\")\n",
    "\n",
    "    else:\n",
    "        print(f\"O {numero} é impar!\")\n",
    "\n",
    "num = float(input(\"Digite um numero: \"))\n",
    "par_impar(num)\n"
   ]
  },
  {
   "cell_type": "markdown",
   "id": "f0288374",
   "metadata": {
    "id": "f0288374"
   },
   "source": [
    "## Exercício 4: Verifique se um ano é bissexto."
   ]
  },
  {
   "cell_type": "code",
   "execution_count": null,
   "id": "oKivD3d22elV",
   "metadata": {
    "id": "oKivD3d22elV"
   },
   "outputs": [
    {
     "name": "stdout",
     "output_type": "stream",
     "text": [
      "Não é ano bissexto\n"
     ]
    }
   ],
   "source": [
    "def bissexto(ano):\n",
    "\n",
    "    if ((ano% 4 == 0 ) and (ano % 100 != 0)) or (ano % 400 == 0):\n",
    "        print(\"O ano é bissexto! \")\n",
    "\n",
    "    else:\n",
    "        print(\"Não é ano bissexto\")\n",
    "\n",
    "year = int(input(\"Digite o ano: \"))\n",
    "bissexto(year)"
   ]
  },
  {
   "cell_type": "markdown",
   "id": "970dae23",
   "metadata": {
    "id": "970dae23"
   },
   "source": [
    "## Exercício 5: Peça três números e exiba o maior."
   ]
  },
  {
   "cell_type": "code",
   "execution_count": null,
   "id": "BZ5Uf7jb5NXm",
   "metadata": {
    "id": "BZ5Uf7jb5NXm"
   },
   "outputs": [
    {
     "name": "stdout",
     "output_type": "stream",
     "text": [
      "O 6.0 é o maior numero\n"
     ]
    }
   ],
   "source": [
    "def maior_num(num1, num2, num3):\n",
    "\n",
    "    if num1>num2 and num1>num3:\n",
    "        print(f\"O {num1} é o maior numero\")\n",
    "\n",
    "    elif num2>num1 and num2>num3:\n",
    "        print(f\"O {num2} é o maior numero\")\n",
    "\n",
    "    else:\n",
    "        print(f\"O {num3} é o maior numero\")\n",
    "\n",
    "numero1 = float(input(\"Digite o 1º numero: \"))\n",
    "numero2 = float(input(\"Digite o 2º numero: \"))\n",
    "numero3 = float(input(\"Digite o 3º numero: \"))\n",
    "\n",
    "maior_num(numero1, numero2, numero3)"
   ]
  },
  {
   "cell_type": "markdown",
   "id": "f7950b6a",
   "metadata": {
    "id": "f7950b6a"
   },
   "source": [
    "## Exercício 6: Verifique se um usuário pode votar (idade >= 18)."
   ]
  },
  {
   "cell_type": "code",
   "execution_count": null,
   "id": "WMNKz_D18Cul",
   "metadata": {
    "id": "WMNKz_D18Cul"
   },
   "outputs": [
    {
     "name": "stdout",
     "output_type": "stream",
     "text": [
      "Não é o momento.\n"
     ]
    }
   ],
   "source": [
    "def votar(idade):\n",
    "\n",
    "    if idade >= 18 and idade <=70:\n",
    "        print(\"Você já pode votar!\")\n",
    "\n",
    "    else:\n",
    "        print(\"Não é o momento.\")\n",
    "\n",
    "age = int(input(\"Digite sua idade: \"))\n",
    "\n",
    "votar(age)"
   ]
  },
  {
   "cell_type": "markdown",
   "id": "vI3rAnHNMp8m",
   "metadata": {
    "id": "vI3rAnHNMp8m"
   },
   "source": [
    "## Exercício 7: Verifique se já posso ir embora da aula de Análise de Dados sem assinar a folha."
   ]
  },
  {
   "cell_type": "code",
   "execution_count": null,
   "id": "XFygfS0O_pp2",
   "metadata": {
    "id": "XFygfS0O_pp2"
   },
   "outputs": [
    {
     "name": "stdout",
     "output_type": "stream",
     "text": [
      "Você ainda precisa assinar! \n"
     ]
    }
   ],
   "source": [
    "def presenca(assinar):\n",
    "\n",
    "    if assinar == \"s\":\n",
    "        print (\"Você pode ir!\")\n",
    "\n",
    "    else:\n",
    "        print (\"Você ainda precisa assinar! \")\n",
    "\n",
    "folha = input(\"Você assinou a folha de presença? <s/n>: \").lower()\n",
    "\n",
    "presenca(folha)"
   ]
  },
  {
   "cell_type": "markdown",
   "id": "d6b4f5ae",
   "metadata": {
    "id": "d6b4f5ae"
   },
   "source": [
    "## Exercício 8: Verifique se uma senha digitada corresponde a '1234'."
   ]
  },
  {
   "cell_type": "code",
   "execution_count": null,
   "id": "y6kgelUUcTSt",
   "metadata": {
    "id": "y6kgelUUcTSt"
   },
   "outputs": [
    {
     "name": "stdout",
     "output_type": "stream",
     "text": [
      "Essa senha não pode ser usada.\n"
     ]
    }
   ],
   "source": [
    "def verif_senha(facil):\n",
    "\n",
    "    if facil == 1234:\n",
    "        print(\"Essa senha não pode ser usada.\")\n",
    "\n",
    "    else:\n",
    "        print(\"Senha cadastrada!\")\n",
    "\n",
    "senha = int(input(\"Digite uma senha de 4 dig: \"))\n",
    "\n",
    "verif_senha(senha)"
   ]
  },
  {
   "cell_type": "markdown",
   "id": "b3b40b44",
   "metadata": {
    "id": "b3b40b44"
   },
   "source": [
    "## Exercício 9: Verifique se um número está entre 10 e 50."
   ]
  },
  {
   "cell_type": "code",
   "execution_count": 42,
   "id": "mvj9z_DvjbWZ",
   "metadata": {
    "id": "mvj9z_DvjbWZ"
   },
   "outputs": [
    {
     "name": "stdout",
     "output_type": "stream",
     "text": [
      "O numero 20 está entre 10 e 50\n"
     ]
    }
   ],
   "source": [
    "\n",
    "def num_entre(num):\n",
    "\n",
    "    if num >= 10 and num <=50:\n",
    "        print(f\"O numero {num} está entre 10 e 50\")\n",
    "\n",
    "    else:\n",
    "        print(f\"O numero {num} não faz parte do exercício\")\n",
    "\n",
    "numero = int(input(\"Digite um numero: \"))\n",
    "num_entre(numero)"
   ]
  },
  {
   "cell_type": "markdown",
   "id": "026219a5",
   "metadata": {
    "id": "026219a5"
   },
   "source": [
    "## Exercício 10: Peça ao usuário um número e exiba 'Alto' se for maior que 100 e 'Baixo' se for menor."
   ]
  },
  {
   "cell_type": "code",
   "execution_count": 45,
   "id": "cWjByoKnkzgM",
   "metadata": {
    "id": "cWjByoKnkzgM"
   },
   "outputs": [
    {
     "name": "stdout",
     "output_type": "stream",
     "text": [
      "Alto\n"
     ]
    }
   ],
   "source": [
    "def num_alto_baixo(num):\n",
    "\n",
    "    if num >= 100:\n",
    "        print(\"Alto\")\n",
    "\n",
    "    else:\n",
    "        print(\"Baixo\")\n",
    "\n",
    "numero = int(input(\"Digite um numero: \"))\n",
    "num_alto_baixo(numero)"
   ]
  },
  {
   "cell_type": "markdown",
   "id": "d329e93a",
   "metadata": {
    "id": "d329e93a"
   },
   "source": [
    "## Exercício 11: Crie um menu onde o usuário pode escolher entre somar, subtrair, multiplicar e dividir dois números."
   ]
  },
  {
   "cell_type": "code",
   "execution_count": null,
   "id": "EAJS_rw6lsNk",
   "metadata": {
    "id": "EAJS_rw6lsNk"
   },
   "outputs": [],
   "source": []
  },
  {
   "cell_type": "markdown",
   "id": "185590d4",
   "metadata": {
    "id": "185590d4"
   },
   "source": [
    "## Exercício 12: Crie um menu para converter temperaturas entre Celsius, Fahrenheit e Kelvin."
   ]
  },
  {
   "cell_type": "code",
   "execution_count": null,
   "id": "WDr1Pg8jrqog",
   "metadata": {
    "id": "WDr1Pg8jrqog"
   },
   "outputs": [],
   "source": []
  },
  {
   "cell_type": "markdown",
   "id": "f8254fda",
   "metadata": {
    "id": "f8254fda"
   },
   "source": [
    "## Exercício 13: Crie um programa que traduza números de 1 a 5 para palavras (1 = um, 2 = dois...)."
   ]
  },
  {
   "cell_type": "code",
   "execution_count": null,
   "id": "Rt4lSuMQzbH7",
   "metadata": {
    "id": "Rt4lSuMQzbH7"
   },
   "outputs": [],
   "source": []
  },
  {
   "cell_type": "markdown",
   "id": "1479a2ad",
   "metadata": {
    "id": "1479a2ad"
   },
   "source": [
    "## Exercício 14: Crie um menu onde o usuário pode escolher entre exibir a data, hora ou sair."
   ]
  },
  {
   "cell_type": "code",
   "execution_count": null,
   "id": "5jpCQ6Ql9ROW",
   "metadata": {
    "id": "5jpCQ6Ql9ROW"
   },
   "outputs": [],
   "source": []
  },
  {
   "cell_type": "markdown",
   "id": "49ca94fd",
   "metadata": {
    "id": "49ca94fd"
   },
   "source": [
    "## Exercício 15: Implemente um programa que identifica o dia da semana baseado em um número (1 = Segunda, 7 = Domingo)."
   ]
  },
  {
   "cell_type": "code",
   "execution_count": null,
   "id": "8ZPPr3XXDe08",
   "metadata": {
    "id": "8ZPPr3XXDe08"
   },
   "outputs": [],
   "source": []
  },
  {
   "cell_type": "markdown",
   "id": "7f1b4a1e",
   "metadata": {
    "id": "7f1b4a1e"
   },
   "source": [
    "## Exercício 16: Verifique se um número é par ou ímpar usando if ternário."
   ]
  },
  {
   "cell_type": "code",
   "execution_count": null,
   "id": "WhGgFUQ2E-u_",
   "metadata": {
    "id": "WhGgFUQ2E-u_"
   },
   "outputs": [],
   "source": []
  },
  {
   "cell_type": "markdown",
   "id": "4b647778",
   "metadata": {
    "id": "4b647778"
   },
   "source": [
    "## Exercício 17: Verifique se um número é positivo ou negativo usando if ternário."
   ]
  },
  {
   "cell_type": "code",
   "execution_count": null,
   "id": "1UuPxeZSH3op",
   "metadata": {
    "id": "1UuPxeZSH3op"
   },
   "outputs": [],
   "source": []
  },
  {
   "cell_type": "markdown",
   "id": "a6ed0e6f",
   "metadata": {
    "id": "a6ed0e6f"
   },
   "source": [
    "## Exercício 18: Retorne 'Adulto' se a idade for maior ou igual a 18, senão 'Menor de idade'."
   ]
  },
  {
   "cell_type": "code",
   "execution_count": null,
   "id": "fbu3Et2_IHNJ",
   "metadata": {
    "id": "fbu3Et2_IHNJ"
   },
   "outputs": [],
   "source": []
  },
  {
   "cell_type": "markdown",
   "id": "354ae09c",
   "metadata": {
    "id": "354ae09c"
   },
   "source": [
    "## Exercício 19: Verifique se um número é maior que 100 e retorne 'Grande' ou 'Pequeno'."
   ]
  },
  {
   "cell_type": "code",
   "execution_count": null,
   "id": "F30B5SSLISVX",
   "metadata": {
    "id": "F30B5SSLISVX"
   },
   "outputs": [],
   "source": []
  },
  {
   "cell_type": "markdown",
   "id": "dc89b94f",
   "metadata": {
    "id": "dc89b94f"
   },
   "source": [
    "## Exercício 20: Retorne 'Aprovado' se a nota for maior ou igual a 7, senão 'Reprovado'."
   ]
  },
  {
   "cell_type": "code",
   "execution_count": null,
   "id": "gZn3VpDrIbuQ",
   "metadata": {
    "id": "gZn3VpDrIbuQ"
   },
   "outputs": [],
   "source": []
  },
  {
   "cell_type": "markdown",
   "id": "58cdaa42",
   "metadata": {
    "id": "58cdaa42"
   },
   "source": [
    "## Exercício 21: Imprima os números de 1 a 10 usando um laço for."
   ]
  },
  {
   "cell_type": "code",
   "execution_count": null,
   "id": "37FmZ91UJOsJ",
   "metadata": {
    "id": "37FmZ91UJOsJ"
   },
   "outputs": [],
   "source": []
  },
  {
   "cell_type": "markdown",
   "id": "ee76ef90",
   "metadata": {
    "id": "ee76ef90"
   },
   "source": [
    "## Exercício 22: Imprima os números pares de 1 a 20."
   ]
  },
  {
   "cell_type": "code",
   "execution_count": null,
   "id": "IxiiNYe1MMXZ",
   "metadata": {
    "id": "IxiiNYe1MMXZ"
   },
   "outputs": [],
   "source": []
  },
  {
   "cell_type": "markdown",
   "id": "b482d8a2",
   "metadata": {
    "id": "b482d8a2"
   },
   "source": [
    "## Exercício 23: Calcule a soma dos números de 1 a 100."
   ]
  },
  {
   "cell_type": "code",
   "execution_count": null,
   "id": "W3xQDPoaNED5",
   "metadata": {
    "id": "W3xQDPoaNED5"
   },
   "outputs": [],
   "source": []
  },
  {
   "cell_type": "markdown",
   "id": "07ad69f1",
   "metadata": {
    "id": "07ad69f1"
   },
   "source": [
    "## Exercício 24: Imprima a tabuada do 5."
   ]
  },
  {
   "cell_type": "markdown",
   "id": "f4513a53",
   "metadata": {
    "id": "f4513a53"
   },
   "source": [
    "## Exercício 25: Imprima os 10 primeiros números da sequência de Fibonacci."
   ]
  },
  {
   "cell_type": "markdown",
   "id": "859ddee6",
   "metadata": {
    "id": "859ddee6"
   },
   "source": [
    "## Exercício 26: Percorra uma string e imprima cada caractere."
   ]
  },
  {
   "cell_type": "markdown",
   "id": "f2e48a7b",
   "metadata": {
    "id": "f2e48a7b"
   },
   "source": [
    "## Exercício 27: Crie um programa que peça um número e imprima sua contagem regressiva até 0."
   ]
  },
  {
   "cell_type": "markdown",
   "id": "1ffc8d99",
   "metadata": {
    "id": "1ffc8d99"
   },
   "source": [
    "## Exercício 28: Crie um programa que solicite 5 números ao usuário e exiba a soma deles."
   ]
  },
  {
   "cell_type": "markdown",
   "id": "603fbc7a",
   "metadata": {
    "id": "603fbc7a"
   },
   "source": [
    "## Exercício 29: Imprima todas as vogais de uma string digitada pelo usuário."
   ]
  },
  {
   "cell_type": "markdown",
   "id": "60f8b06d",
   "metadata": {
    "id": "60f8b06d"
   },
   "source": [
    "## Exercício 30: Crie um programa que peça 5 números e exiba apenas os números pares."
   ]
  },
  {
   "cell_type": "markdown",
   "id": "48c9a395",
   "metadata": {
    "id": "48c9a395"
   },
   "source": [
    "## Exercício 31: Percorra uma lista de frutas e imprima cada uma."
   ]
  },
  {
   "cell_type": "markdown",
   "id": "adb57877",
   "metadata": {
    "id": "adb57877"
   },
   "source": [
    "## Exercício 32: Some todos os números de uma lista."
   ]
  },
  {
   "cell_type": "markdown",
   "id": "03989ca7",
   "metadata": {
    "id": "03989ca7"
   },
   "source": [
    "## Exercício 33: Multiplique cada número de uma lista por 2 e imprima o resultado."
   ]
  },
  {
   "cell_type": "markdown",
   "id": "2f959625",
   "metadata": {
    "id": "2f959625"
   },
   "source": [
    "## Exercício 34: Conte quantas palavras existem em uma lista de palavras."
   ]
  },
  {
   "cell_type": "markdown",
   "id": "32331e7c",
   "metadata": {
    "id": "32331e7c"
   },
   "source": [
    "## Exercício 35: Imprima cada letra de uma palavra separadamente."
   ]
  },
  {
   "cell_type": "markdown",
   "id": "88c43389",
   "metadata": {
    "id": "88c43389"
   },
   "source": [
    "## Exercício 36: Crie uma lista com 5 números e imprima o maior."
   ]
  },
  {
   "cell_type": "markdown",
   "id": "cefe2b8d",
   "metadata": {
    "id": "cefe2b8d"
   },
   "source": [
    "## Exercício 37: Crie uma lista e inverta a ordem dos elementos."
   ]
  },
  {
   "cell_type": "markdown",
   "id": "6f090c30",
   "metadata": {
    "id": "6f090c30"
   },
   "source": [
    "## Exercício 38: Crie uma lista com 5 nomes e remova o último nome."
   ]
  },
  {
   "cell_type": "markdown",
   "id": "494fdd4f",
   "metadata": {
    "id": "494fdd4f"
   },
   "source": [
    "## Exercício 39: Ordene uma lista de números."
   ]
  },
  {
   "cell_type": "markdown",
   "id": "becf6860",
   "metadata": {
    "id": "becf6860"
   },
   "source": [
    "## Exercício 40: Crie uma lista com 5 números e exiba apenas os pares."
   ]
  },
  {
   "cell_type": "markdown",
   "id": "1be545d4",
   "metadata": {
    "id": "1be545d4"
   },
   "source": [
    "## Exercício 41: Crie uma lista e adicione um novo elemento no final."
   ]
  },
  {
   "cell_type": "markdown",
   "id": "e5f49687",
   "metadata": {
    "id": "e5f49687"
   },
   "source": [
    "## Exercício 42: Verifique se um número existe dentro de uma lista."
   ]
  },
  {
   "cell_type": "markdown",
   "id": "c7126906",
   "metadata": {
    "id": "c7126906"
   },
   "source": [
    "## Exercício 43: Crie uma lista de números e calcule a média."
   ]
  },
  {
   "cell_type": "markdown",
   "id": "b3d38297",
   "metadata": {
    "id": "b3d38297"
   },
   "source": [
    "## Exercício 44: Crie uma lista de nomes e converta todos para maiúsculas."
   ]
  },
  {
   "cell_type": "markdown",
   "id": "7217ec03",
   "metadata": {
    "id": "7217ec03"
   },
   "source": [
    "## Exercício 45: Crie uma lista de números e remova os duplicados."
   ]
  },
  {
   "cell_type": "markdown",
   "id": "c508fdb6",
   "metadata": {
    "id": "c508fdb6"
   },
   "source": [
    "## Exercício 46: Crie um dicionário com nomes de alunos e suas notas e exiba a nota de um aluno específico."
   ]
  },
  {
   "cell_type": "markdown",
   "id": "0bfb53d7",
   "metadata": {
    "id": "0bfb53d7"
   },
   "source": [
    "## Exercício 47: Adicione um novo aluno e sua nota a um dicionário."
   ]
  },
  {
   "cell_type": "markdown",
   "id": "366e0034",
   "metadata": {
    "id": "366e0034"
   },
   "source": [
    "## Exercício 48: Remova um aluno do dicionário."
   ]
  },
  {
   "cell_type": "markdown",
   "id": "6dc1e9fa",
   "metadata": {
    "id": "6dc1e9fa"
   },
   "source": [
    "## Exercício 49: Percorra um dicionário e imprima suas chaves e valores."
   ]
  },
  {
   "cell_type": "markdown",
   "id": "5757f1ac",
   "metadata": {
    "id": "5757f1ac"
   },
   "source": [
    "## Exercício 50: Verifique se uma chave existe no dicionário."
   ]
  }
 ],
 "metadata": {
  "colab": {
   "provenance": []
  },
  "kernelspec": {
   "display_name": "Python 3",
   "name": "python3"
  },
  "language_info": {
   "codemirror_mode": {
    "name": "ipython",
    "version": 3
   },
   "file_extension": ".py",
   "mimetype": "text/x-python",
   "name": "python",
   "nbconvert_exporter": "python",
   "pygments_lexer": "ipython3",
   "version": "3.12.3"
  }
 },
 "nbformat": 4,
 "nbformat_minor": 5
}
